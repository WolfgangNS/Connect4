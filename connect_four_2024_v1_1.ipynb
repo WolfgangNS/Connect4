{
  "nbformat": 4,
  "nbformat_minor": 0,
  "metadata": {
    "colab": {
      "provenance": [],
      "authorship_tag": "ABX9TyPVGK1OQYWm7jJZJPx0hnwR",
      "include_colab_link": true
    },
    "kernelspec": {
      "name": "python3",
      "display_name": "Python 3"
    },
    "language_info": {
      "name": "python"
    }
  },
  "cells": [
    {
      "cell_type": "markdown",
      "metadata": {
        "id": "view-in-github",
        "colab_type": "text"
      },
      "source": [
        "<a href=\"https://colab.research.google.com/github/WolfgangNS/Connect4/blob/main/connect_four_2024_v1_1.ipynb\" target=\"_parent\"><img src=\"https://colab.research.google.com/assets/colab-badge.svg\" alt=\"Open In Colab\"/></a>"
      ]
    },
    {
      "cell_type": "markdown",
      "source": [
        "### Connect four"
      ],
      "metadata": {
        "id": "8i-p9U9o7kSP"
      }
    },
    {
      "cell_type": "code",
      "source": [
        "#@title define functions\n",
        "from sys import flags\n",
        "import time\n",
        "from IPython.display import clear_output\n",
        "from enum import Flag, IntFlag, auto\n",
        "\n",
        "\n",
        "def printc(text, color, end=\"\\n\"):\n",
        "    color_codes = {\n",
        "        \"R\": \"\\033[91m\",\n",
        "        \"B\": \"\\033[94m\",\n",
        "        \"reset\": \"\\033[0m\"\n",
        "    }\n",
        "    print(color_codes.get(color, \"\") + text + color_codes[\"reset\"], end=end)\n",
        "\n",
        "\n",
        "class game:\n",
        "  def __init__(self):\n",
        "    self.board = [[], [], [], [], [], [], []] #each [] is a col, each [[]] is a row\n",
        "    self.flagsB = [0b000000, 0b000000, 0b000000, 0b000000, 0b000000, 0b000000, 0b000000]\n",
        "    self.flagsR = [0b000000, 0b000000, 0b000000, 0b000000, 0b000000, 0b000000, 0b000000]\n",
        "\n",
        "\n",
        "  def display(self):\n",
        "    board = self.board\n",
        "\n",
        "    clear_output(wait=True)\n",
        "    for i in range(7)[::-1]: #each col\n",
        "      for j in range(7): #each row\n",
        "        try:\n",
        "          printc(\"●\", board[j][i], end=\"  \")\n",
        "        except IndexError:\n",
        "          print(\" \", end=\"  \")\n",
        "      print(\"\\n\", end=\"\")\n",
        "    time.sleep(0.2)\n",
        "\n",
        "\n",
        "  def move(self, column, chip):\n",
        "    board = self.board\n",
        "    flagsB = self.flagsB\n",
        "    flagsR = self.flagsR\n",
        "\n",
        "    if(iswin(flagsB) or iswin(flagsR)):\n",
        "      return #exit game if it's already won\n",
        "    board[column].append(chip)\n",
        "    if chip == \"B\":\n",
        "      flagsB[column] = flagsB[column] | (1 << len(board[column])-1)\n",
        "    else:\n",
        "      flagsR[column] = flagsR[column] | (1 << len(board[column])-1)\n",
        "    self.display()\n",
        "    self.board = board\n",
        "    self.flagsB = flagsB\n",
        "    self.flagsR = flagsR\n",
        "\n",
        "    if(iswin(flagsB) or iswin(flagsR)):\n",
        "      print(\"\\nWinner!\")\n",
        "      return"
      ],
      "metadata": {
        "id": "E6kai1MPezAv"
      },
      "execution_count": 16,
      "outputs": []
    },
    {
      "cell_type": "code",
      "source": [
        "#test wins\n",
        "\n",
        "def iswin(f1):\n",
        "    #test diagonal wins\n",
        "    f2 = []\n",
        "    j = 0\n",
        "    for i in f1:\n",
        "        f2.append(i << j)\n",
        "        j+=1\n",
        "\n",
        "    for o in [0, 1, 2, 3]: # o for offset\n",
        "      if(f2[o] & f2[o+1] & f2[o+2] & f2[o+3]):\n",
        "        return True\n",
        "\n",
        "    #Same, but opposite\n",
        "    f2 = []\n",
        "    j = 7\n",
        "    for i in f1:\n",
        "        f2.append(i << j)\n",
        "        j-=1\n",
        "\n",
        "    for o in [0, 1, 2, 3]: # o for offset\n",
        "      if(f2[o] & f2[o+1] & f2[o+2] & f2[o+3]):\n",
        "        return True\n",
        "\n",
        "    #horizontal fours\n",
        "    f2 = f1.copy()\n",
        "\n",
        "    for o in [0, 1, 2, 3]: # o for offset\n",
        "      if(f2[o] & f2[o+1] & f2[o+2] & f2[o+3]):\n",
        "        return True\n",
        "\n",
        "    #verticals\n",
        "    for o in range(7): # o for offset\n",
        "      if(f2[o] &\n",
        "        f2[o] << 1 &\n",
        "        f2[o] << 2 &\n",
        "        f2[o] << 3):\n",
        "        return True"
      ],
      "metadata": {
        "id": "JIM4vkhHfXia"
      },
      "execution_count": 9,
      "outputs": []
    },
    {
      "cell_type": "code",
      "source": [
        "#@title controlled game with vertical win\n",
        "\n",
        "newgame = game()\n",
        "newgame.move(0, \"B\")\n",
        "newgame.move(1, \"R\")\n",
        "newgame.move(2, \"B\")\n",
        "newgame.move(2, \"B\")\n",
        "newgame.move(2, \"B\")\n",
        "newgame.move(3, \"R\")\n",
        "newgame.move(4, \"B\")\n",
        "newgame.move(5, \"R\")\n",
        "newgame.move(2, \"B\")\n",
        "newgame.move(2, \"B\")\n",
        "newgame.move(6, \"B\")\n",
        "newgame.flagsB"
      ],
      "metadata": {
        "colab": {
          "base_uri": "https://localhost:8080/"
        },
        "id": "OGuo7C5yB0wv",
        "outputId": "b2537b6a-184f-48ef-833f-14df99d3f10a"
      },
      "execution_count": 18,
      "outputs": [
        {
          "output_type": "stream",
          "name": "stdout",
          "text": [
            "                     \n",
            "                     \n",
            "                     \n",
            "      \u001b[94m●\u001b[0m              \n",
            "      \u001b[94m●\u001b[0m              \n",
            "      \u001b[94m●\u001b[0m              \n",
            "\u001b[94m●\u001b[0m  \u001b[91m●\u001b[0m  \u001b[94m●\u001b[0m  \u001b[91m●\u001b[0m  \u001b[94m●\u001b[0m  \u001b[91m●\u001b[0m     \n",
            "\n",
            "Winner!\n"
          ]
        },
        {
          "output_type": "execute_result",
          "data": {
            "text/plain": [
              "[1, 0, 15, 0, 1, 0, 0]"
            ]
          },
          "metadata": {},
          "execution_count": 18
        }
      ]
    },
    {
      "cell_type": "code",
      "source": [
        "#@title play random game\n",
        "\n",
        "import random\n",
        "\n",
        "random.seed(6942069)\n",
        "newgame = game()\n",
        "moves = []\n",
        "for i in range(50):\n",
        "  chip = \"R\" if i % 2 == 0 else \"B\"\n",
        "  r = random.randint(0,6)\n",
        "  newgame.move(r, chip)\n",
        "  moves.append(r)"
      ],
      "metadata": {
        "colab": {
          "base_uri": "https://localhost:8080/"
        },
        "id": "KZXmaSJXfFjO",
        "outputId": "04c92785-4c3e-45e2-f74e-851dcecc4a4b"
      },
      "execution_count": 24,
      "outputs": [
        {
          "output_type": "stream",
          "name": "stdout",
          "text": [
            "                     \n",
            "                     \n",
            "                     \n",
            "                  \u001b[94m●\u001b[0m  \n",
            "                  \u001b[94m●\u001b[0m  \n",
            "      \u001b[94m●\u001b[0m     \u001b[91m●\u001b[0m     \u001b[91m●\u001b[0m  \n",
            "   \u001b[94m●\u001b[0m  \u001b[91m●\u001b[0m  \u001b[91m●\u001b[0m  \u001b[91m●\u001b[0m  \u001b[91m●\u001b[0m  \u001b[94m●\u001b[0m  \n",
            "\n",
            "Winner!\n"
          ]
        }
      ]
    },
    {
      "cell_type": "code",
      "source": [
        "#@title play random game\n",
        "\n",
        "import random\n",
        "\n",
        "random.seed(911)\n",
        "newgame = game()\n",
        "moves = []\n",
        "for i in range(50):\n",
        "  chip = \"R\" if i % 2 == 0 else \"B\"\n",
        "  r = random.randint(0,6)\n",
        "  newgame.move(r, chip)\n",
        "  moves.append(r)"
      ],
      "metadata": {
        "colab": {
          "base_uri": "https://localhost:8080/"
        },
        "id": "w5Q4AAs1Gok8",
        "outputId": "0846e4ab-8cd4-464c-8365-f13656806f3e"
      },
      "execution_count": 25,
      "outputs": [
        {
          "output_type": "stream",
          "name": "stdout",
          "text": [
            "   \u001b[91m●\u001b[0m                 \n",
            "   \u001b[91m●\u001b[0m     \u001b[94m●\u001b[0m     \u001b[91m●\u001b[0m     \n",
            "   \u001b[91m●\u001b[0m     \u001b[94m●\u001b[0m     \u001b[94m●\u001b[0m     \n",
            "\u001b[91m●\u001b[0m  \u001b[91m●\u001b[0m     \u001b[91m●\u001b[0m     \u001b[94m●\u001b[0m     \n",
            "\u001b[94m●\u001b[0m  \u001b[94m●\u001b[0m  \u001b[94m●\u001b[0m  \u001b[91m●\u001b[0m     \u001b[94m●\u001b[0m  \u001b[94m●\u001b[0m  \n",
            "\u001b[94m●\u001b[0m  \u001b[91m●\u001b[0m  \u001b[91m●\u001b[0m  \u001b[94m●\u001b[0m  \u001b[91m●\u001b[0m  \u001b[91m●\u001b[0m  \u001b[91m●\u001b[0m  \n",
            "\u001b[94m●\u001b[0m  \u001b[94m●\u001b[0m  \u001b[91m●\u001b[0m  \u001b[91m●\u001b[0m  \u001b[94m●\u001b[0m  \u001b[91m●\u001b[0m  \u001b[94m●\u001b[0m  \n",
            "\n",
            "Winner!\n"
          ]
        }
      ]
    }
  ]
}